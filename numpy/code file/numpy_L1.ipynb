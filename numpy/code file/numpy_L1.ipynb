{
 "cells": [
  {
   "cell_type": "code",
   "execution_count": 3,
   "id": "d679dc0a",
   "metadata": {},
   "outputs": [
    {
     "name": "stdout",
     "output_type": "stream",
     "text": [
      "hello world\n"
     ]
    }
   ],
   "source": [
    "print('hello world')"
   ]
  },
  {
   "cell_type": "code",
   "execution_count": 8,
   "id": "acd94117",
   "metadata": {},
   "outputs": [],
   "source": [
    "import numpy as np"
   ]
  },
  {
   "cell_type": "code",
   "execution_count": 20,
   "id": "a23e3ee2",
   "metadata": {},
   "outputs": [
    {
     "name": "stdout",
     "output_type": "stream",
     "text": [
      "[1 2 3]\n",
      "array a:[1 2 3]\n",
      "ndim: 1\n",
      "size of array: 3\n",
      "shape of array: (3,)\n",
      "data type: int64\n",
      "itemsize: 8\n"
     ]
    }
   ],
   "source": [
    "a = np.array([1,2,3])\n",
    "print(a)\n",
    "print('array a:{}'.format(a))\n",
    "print('ndim:',a.ndim)\n",
    "print('size of array:',a.size)\n",
    "print('shape of array:',a.shape)\n",
    "print('data type:',a.dtype)\n",
    "print('itemsize:',a.itemsize)"
   ]
  },
  {
   "cell_type": "code",
   "execution_count": 26,
   "id": "4a8fff7f",
   "metadata": {},
   "outputs": [
    {
     "name": "stdout",
     "output_type": "stream",
     "text": [
      "[[1 2 3]\n",
      " [1 2 3]]\n",
      "ndim: 2\n",
      "size of array: 6\n",
      "shape of array: (2, 3)\n",
      "data type: int64\n",
      "itemsize: 8\n"
     ]
    }
   ],
   "source": [
    "b = np.array([[1,2,3],[1,2,3]])\n",
    "print(b)\n",
    "print('ndim:',b.ndim)\n",
    "print('size of array:',b.size)\n",
    "print('shape of array:',b.shape)\n",
    "print('data type:',b.dtype)\n",
    "print('itemsize:',b.itemsize)"
   ]
  },
  {
   "cell_type": "code",
   "execution_count": 47,
   "id": "37f6d2b2",
   "metadata": {},
   "outputs": [
    {
     "name": "stdout",
     "output_type": "stream",
     "text": [
      "add [6 9 9]\n",
      "sub [-4 -5 -3]\n",
      "div [0.2        0.28571429 0.5       ]\n",
      "pow [  1 128 729]\n",
      "multiple [ 5 14 18]\n",
      "mod [1 2 3]\n",
      "remainder [1 2 3]\n",
      "absolute [1 2 3]\n"
     ]
    }
   ],
   "source": [
    "c = np.array([5,7,6])\n",
    "d = np.add(a,c)\n",
    "e = np.subtract(a,c)\n",
    "print('add',d)\n",
    "print('sub',e)\n",
    "print('div',np.divide(a,c))\n",
    "print('pow',np.power(a,c))\n",
    "print('multiple',np.multiply(a,c))\n",
    "print('mod',np.mod(a,c))\n",
    "print('remainder',np.remainder(a,c))\n",
    "print('absolute',np.absolute(a,c))"
   ]
  },
  {
   "cell_type": "code",
   "execution_count": 50,
   "id": "1caa0b10",
   "metadata": {},
   "outputs": [
    {
     "name": "stdout",
     "output_type": "stream",
     "text": [
      "['sandip' 'naman' 'digu']\n",
      "ndim: 1\n",
      "size of array: 3\n",
      "shape of array: (3,)\n",
      "data type: <U6\n",
      "itemsize: 24\n"
     ]
    }
   ],
   "source": [
    "a = np.array(['sandip','naman','digu'])\n",
    "print(a)\n",
    "print('ndim:',a.ndim)\n",
    "print('size of array:',a.size)\n",
    "print('shape of array:',a.shape)\n",
    "print('data type:',a.dtype)\n",
    "print('itemsize:',a.itemsize)"
   ]
  },
  {
   "cell_type": "code",
   "execution_count": 63,
   "id": "0fe7de88",
   "metadata": {},
   "outputs": [
    {
     "name": "stdout",
     "output_type": "stream",
     "text": [
      "[1.  1.5 2.  2.5 3.  3.5 4.  4.5]\n"
     ]
    }
   ],
   "source": [
    "ar = np.arange(1,5,0.5)\n",
    "print(ar)\n"
   ]
  },
  {
   "cell_type": "code",
   "execution_count": 70,
   "id": "505baa3a",
   "metadata": {},
   "outputs": [
    {
     "name": "stdout",
     "output_type": "stream",
     "text": [
      "[[0.90707307 0.25997148]\n",
      " [0.0225364  0.7046009 ]]\n"
     ]
    }
   ],
   "source": [
    "a = np.random.random((2,2))\n",
    "print(a)"
   ]
  }
 ],
 "metadata": {
  "kernelspec": {
   "display_name": "Python 3 (ipykernel)",
   "language": "python",
   "name": "python3"
  },
  "language_info": {
   "codemirror_mode": {
    "name": "ipython",
    "version": 3
   },
   "file_extension": ".py",
   "mimetype": "text/x-python",
   "name": "python",
   "nbconvert_exporter": "python",
   "pygments_lexer": "ipython3",
   "version": "3.9.12"
  }
 },
 "nbformat": 4,
 "nbformat_minor": 5
}
